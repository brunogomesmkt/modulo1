{
  "nbformat": 4,
  "nbformat_minor": 0,
  "metadata": {
    "colab": {
      "provenance": [],
      "toc_visible": true
    },
    "kernelspec": {
      "name": "python3",
      "display_name": "Python 3"
    },
    "language_info": {
      "name": "python"
    }
  },
  "cells": [
    {
      "cell_type": "code",
      "execution_count": 1,
      "metadata": {
        "colab": {
          "base_uri": "https://localhost:8080/"
        },
        "id": "MoWrNWJcWctj",
        "outputId": "03331812-2cbb-4e2e-efb2-e7532ca03924"
      },
      "outputs": [
        {
          "output_type": "stream",
          "name": "stdout",
          "text": [
            "('seg', 'ter', 'quar')\n"
          ]
        }
      ],
      "source": [
        "dias = (\"seg\",\"ter\",\"quar\")\n",
        "print(dias)"
      ]
    }
  ]
}